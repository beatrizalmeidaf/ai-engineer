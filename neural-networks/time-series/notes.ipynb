{
 "cells": [
  {
   "cell_type": "markdown",
   "id": "fe010311",
   "metadata": {},
   "source": [
    "# Time Series"
   ]
  },
  {
   "cell_type": "markdown",
   "id": "1e16de4d",
   "metadata": {},
   "source": [
    "Uma **série temporal** é qualquer dado obtido por meio de medições em intervalos regulares, como:\n",
    "\n",
    "- Preço diário de uma ação\n",
    "- Consumo horário de eletricidade\n",
    "- Vendas semanais de uma loja\n",
    "\n",
    "Séries temporais aparecem tanto em fenômenos naturais (atividade sísmica, clima, populações de peixes) quanto em padrões humanos (acessos a um site, PIB, transações com cartão).\n",
    "\n",
    "Ao trabalhar com séries temporais, é necessário entender **a dinâmica do sistema**: ciclos periódicos, tendências ao longo do tempo, padrões regulares e picos repentinos.\n",
    "\n",
    "## Principais Tarefas com Séries Temporais\n",
    "\n",
    "A tarefa mais comum é:\n",
    "\n",
    "### Previsão (Forecasting)\n",
    "Prever o próximo valor da série. Exemplos:\n",
    "- Prever consumo de energia nas próximas horas\n",
    "- Estimar receita nos próximos meses\n",
    "- Antecipar o clima dos próximos dias\n",
    "\n",
    "Outras tarefas incluem:\n",
    "\n",
    "### Classificação\n",
    "Atribuir rótulos a uma série temporal.  \n",
    "*Exemplo:* Classificar o comportamento de um visitante em um site como humano ou bot.\n",
    "\n",
    "### Detecção de Eventos\n",
    "Detectar eventos específicos em um fluxo contínuo de dados.  \n",
    "*Exemplo:* Reconhecer palavras-chave como \"Ok Google\" em uma transmissão de áudio.\n",
    "\n",
    "### Detecção de Anomalias\n",
    "Identificar comportamentos incomuns.  \n",
    "*Exemplos:*  \n",
    "- Atividade incomum em uma rede corporativa  \n",
    "- Leituras estranhas em uma linha de produção\n",
    "\n",
    "Essa tarefa é geralmente feita com **aprendizado não supervisionado**, pois nem sempre se sabe o que constitui uma anomalia.\n",
    "\n",
    "## Técnicas Específicas de Domínio\n",
    "\n",
    "Em séries temporais, representações específicas como a **Transformada de Fourier** são úteis para analisar ciclos e oscilações (som, vibrações, ondas cerebrais). Elas ajudam a preparar os dados antes do treinamento, facilitando a tarefa do modelo.\n"
   ]
  }
 ],
 "metadata": {
  "language_info": {
   "name": "python"
  }
 },
 "nbformat": 4,
 "nbformat_minor": 5
}
