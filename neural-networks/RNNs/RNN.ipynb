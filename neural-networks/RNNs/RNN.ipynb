{
 "cells": [
  {
   "cell_type": "markdown",
   "id": "3ec240f6",
   "metadata": {},
   "source": [
    "# Redes Neurais Recorrentes (RNN)\n",
    "\n",
    "## Redes Neurais Tradicionais (Feedforward)\n",
    "\n",
    "* Redes densas e convolucionais (convnets) **não possuem memória**.\n",
    "* Cada entrada é tratada de forma **independente**.\n",
    "* Para processar sequências (como séries temporais), é preciso transformar tudo em um único vetor.\n",
    "* Exemplo: ao usar dados de 5 dias, eles são \"achatados\" em um único vetor de entrada.\n",
    "\n",
    "## RNN\n",
    "\n",
    "* RNN significa **Rede Neural Recorrente**.\n",
    "* Diferente das redes normais, a RNN **mantém um estado interno** que guarda informações do que já foi processado.\n",
    "* Esse estado é atualizado a cada novo elemento da sequência.\n",
    "* Assim como nosso cérebro, ela processa dados **de forma incremental**, lembrando do que veio antes.\n",
    "\n",
    "## Como Funciona?\n",
    "\n",
    "* A RNN processa os dados em **um laço (loop)**, passando de item em item da sequência.\n",
    "* A cada passo, ela usa a entrada atual **e o estado anterior** para calcular a saída atual.\n",
    "* Esse processo continua até o fim da sequência.\n",
    "* O estado é **resetado** ao iniciar uma nova sequência (novo exemplo).\n",
    "\n",
    "## O Que a RNN Faz com os Dados?\n",
    "\n",
    "* Para cada elemento da sequência:\n",
    "\n",
    "  * Combina a entrada atual com o estado anterior.\n",
    "  * Aplica uma função de ativação (como `tanh`) para gerar a nova saída.\n",
    "  * Atualiza o estado com essa nova saída.\n",
    "\n",
    "## RNN no Keras\n",
    "\n",
    "* A camada `SimpleRNN` faz isso automaticamente.\n",
    "* Aceita dados em formato `(batch_size, timesteps, input_features)`.\n",
    "* Pode retornar:\n",
    "\n",
    "  * **A última saída** (padrão).\n",
    "  * **Toda a sequência de saídas**, usando `return_sequences=True`.\n",
    "\n",
    "## Empilhamento de RNNs\n",
    "\n",
    "* É possível usar várias camadas RNN em sequência para aumentar a capacidade da rede.\n",
    "* Quando fizer isso, todas as camadas intermediárias devem retornar a sequência completa.\n",
    "\n",
    "## Limitações da SimpleRNN\n",
    "\n",
    "* **Problema do gradiente que desaparece**: quanto mais longa a sequência, mais difícil é para a SimpleRNN aprender dependências de longo prazo.\n",
    "* Resultado: a SimpleRNN geralmente **não é suficiente** para tarefas complexas.\n",
    "\n",
    "## Soluções: LSTM e GRU\n",
    "\n",
    "* Foram criadas para resolver o problema do gradiente.\n",
    "* **LSTM (Long Short-Term Memory)**: criada em 1997, consegue **transportar informações por muitos passos no tempo**, como se fosse uma \"esteira\" paralela à sequência.\n",
    "* **GRU (Gated Recurrent Unit)**: variação mais simples do LSTM, mas também muito eficaz.\n"
   ]
  },
  {
   "cell_type": "code",
   "execution_count": null,
   "id": "255ed2cd",
   "metadata": {
    "vscode": {
     "languageId": "plaintext"
    }
   },
   "outputs": [],
   "source": [
    "# pseudocodigo de uma RNN\n",
    "\n",
    "state = 0\n",
    "for input in sequence\n",
    "    output = f(input, state)\n",
    "    state = output"
   ]
  },
  {
   "attachments": {
    "image.png": {
     "image/png": "[encoded data removed]"
    }
   },
   "cell_type": "markdown",
   "id": "ce394e93",
   "metadata": {},
   "source": [
    "![image.png](attachment:image.png)"
   ]
  },
  {
   "cell_type": "markdown",
   "id": "75af46a9",
   "metadata": {},
   "source": [
    "## Por que usar *Dropout* em RNNs?\n",
    "\n",
    "O modelo LSTM pode demonstrar overfitting precoce, mesmo com poucas unidades. Para combater isso, usamos *dropout*, que inibe correlações fortuitas nos dados ao zerar aleatoriamente algumas entradas durante o treinamento.\n",
    "\n",
    "> Aplicar dropout de forma ingênua em RNNs (por exemplo, entre as camadas ou variando a máscara a cada passo de tempo) pode atrapalhar o aprendizado.\n",
    "\n",
    "### Dropout Recomendado para RNNs\n",
    "\n",
    "Yarin Gal (2016) propôs:\n",
    "\n",
    "* Aplicar **a mesma máscara de dropout a cada timestep**.\n",
    "* Usar **dropout recorrente** nas ativações internas da RNN.\n",
    "\n",
    "Essas estratégias ajudam o modelo a propagar corretamente o erro ao longo do tempo.\n",
    "\n",
    "## Performance de RNNs\n",
    "\n",
    "### CPU vs GPU\n",
    "\n",
    "* **RNNs pequenas**: mais rápidas na CPU (multiplicações pequenas e pouco paralelizáveis).\n",
    "* **RNNs grandes**: se beneficiam da GPU, mas cuidado com limitações do cuDNN.\n",
    "\n",
    "\n",
    "## Empilhamento de Camadas Recorrentes\n",
    "\n",
    "Se não há overfitting, mas a performance estagna, é hora de **aumentar a capacidade da rede**:\n",
    "\n",
    "* Mais unidades por camada\n",
    "* Mais camadas empilhadas\n",
    "\n",
    "## RNNs Bidirecionais\n",
    "\n",
    "RNNs são sensíveis à ordem. Uma RNN bidirecional processa a sequência **nas duas direções**:\n",
    "\n",
    "* Cronológica\n",
    "* Anticronológica\n",
    "\n",
    "Combina as representações de ambas direções para capturar padrões mais amplos.\n",
    "\n",
    "> Muito útil em NLP e também aplicável a séries temporais.\n"
   ]
  }
 ],
 "metadata": {
  "language_info": {
   "name": "python"
  }
 },
 "nbformat": 4,
 "nbformat_minor": 5
}
