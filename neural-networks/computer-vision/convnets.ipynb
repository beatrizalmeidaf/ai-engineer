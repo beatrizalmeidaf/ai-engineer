{
 "cells": [
  {
   "cell_type": "markdown",
   "id": "d3b58f60",
   "metadata": {},
   "source": [
    "### Diferença entre Camadas Densas e Convolucionais\n",
    "\n",
    "- **Camadas Densas (Fully Connected):**\n",
    "  - Aprendem **padrões globais** nos dados de entrada.\n",
    "  - Exemplo: no MNIST, analisam todos os pixels ao mesmo tempo.\n",
    "\n",
    "- **Camadas Convolucionais:**\n",
    "  - Aprendem **padrões locais** observando pequenas janelas da entrada.\n",
    "  - Exemplo: identificam padrões em regiões 3×3 de uma imagem.\n",
    "\n",
    "Camadas convolucionais são mais eficientes para dados espaciais como imagens, pois focam em pequenas partes da entrada de cada vez."
   ]
  },
  {
   "cell_type": "markdown",
   "id": "409272aa",
   "metadata": {},
   "source": [
    "### Propriedades Interessantes das Redes Convolucionais (ConvNets)\n",
    "\n",
    "1. **Invariância à Translação:**\n",
    "   - Após aprender um padrão em uma parte da imagem (ex: canto inferior direito), a rede pode reconhecê-lo em qualquer outro lugar (ex: canto superior esquerdo).\n",
    "   - Isso torna as convnets mais **eficientes com dados**, pois precisam de **menos exemplos** para generalizar bem.\n",
    "   - Redes densas teriam que reaprender o mesmo padrão em cada nova posição.\n",
    "\n",
    "2. **Hierarquia Espacial de Padrões:**\n",
    "   - **Primeiras camadas convolucionais** aprendem padrões simples (ex: bordas).\n",
    "   - **Camadas intermediárias** aprendem combinações desses padrões simples (ex: formas).\n",
    "   - **Camadas mais profundas** aprendem conceitos visuais mais complexos (ex: rostos, objetos).\n",
    "   - Isso reflete a estrutura **hierárquica e espacial** do mundo visual."
   ]
  },
  {
   "cell_type": "markdown",
   "id": "4e3ae558",
   "metadata": {},
   "source": [
    "### Como Funciona a Operação de Convolução\n",
    "\n",
    "- Convoluções atuam sobre **tensores de rank 3** chamados **mapas de características (feature maps)**:\n",
    "  - Possuem 2 eixos espaciais: **altura** e **largura**.\n",
    "  - E 1 eixo de profundidade (**channels**):\n",
    "    - Imagens RGB: profundidade = 3 (vermelho, verde e azul).\n",
    "    - Imagens em preto e branco (ex: MNIST): profundidade = 1 (tons de cinza).\n",
    "\n",
    "- A convolução:\n",
    "  - Extrai **pequenos blocos (patches)** da entrada e aplica a **mesma transformação** em todos.\n",
    "  - Gera um novo **mapa de características de saída**, também um tensor de rank 3.\n",
    "\n",
    "- A profundidade da **saída** é definida pelo número de **filtros** na camada:\n",
    "  - Cada filtro aprende a detectar um **padrão específico** nos dados.\n",
    "  - Ex: um filtro pode detectar bordas, outro pode detectar curvas, outro pode representar algo mais abstrato, como \"presença de um rosto\".\n",
    "\n",
    "- **Exemplo (MNIST):**\n",
    "  - Entrada: mapa (28, 28, 1).\n",
    "  - Saída após 1ª convolução: mapa (26, 26, 32).\n",
    "    - 32 filtros aplicados → 32 canais de saída.\n",
    "    - Cada canal contém uma **resposta do filtro** ao longo da imagem."
   ]
  },
  {
   "cell_type": "markdown",
   "id": "36720f06",
   "metadata": {},
   "source": [
    "### Entendendo Feature Maps e Parâmetros de Convolução\n",
    "\n",
    "- **Feature Map** (Mapa de Características):\n",
    "  - Cada **dimensão do eixo de profundidade** representa um **filtro** (ou \"feature\").\n",
    "  - O tensor bidimensional `output[:, :, n]` representa um **mapa de resposta** do filtro `n`, indicando onde esse padrão aparece na imagem.\n",
    "\n",
    "- **Parâmetros principais de uma convolução:**\n",
    "  1. **Tamanho da Janela (Patch):**\n",
    "     - Define o tamanho do bloco extraído da imagem.\n",
    "     - Exemplo comum: **3×3** ou **5×5**.\n",
    "  2. **Profundidade da Saída:**\n",
    "     - Define o número de **filtros** aplicados.\n",
    "     - Exemplo: `Conv2D(32, (3, 3))` aplica 32 filtros 3×3 → saída com profundidade 32.\n",
    "\n",
    "- **Como a convolução funciona:**\n",
    "  - A janela 3D (ex: 3×3×input_depth) é **deslizada** pela imagem de entrada.\n",
    "  - Em cada posição, um **patch** é extraído e transformado em um **vetor 1D** (tamanho = número de filtros).\n",
    "  - Isso é feito por um **produto tensorial** com pesos aprendidos chamados **kernel**.\n",
    "  - O **mesmo kernel** é usado em todas as posições (compartilhamento de pesos).\n",
    "  - O resultado final é um **novo tensor 3D**, onde:\n",
    "    - Cada posição `(i, j, :)` da saída corresponde ao patch centralizado em `(i, j)` da entrada.\n",
    "    - Cada canal da saída indica a **intensidade da resposta** de um filtro naquela posição.\n",
    "\n",
    "- **Resumo Visual:**\n",
    "  - Entrada: `(altura, largura, profundidade)`\n",
    "  - Janela: `(3, 3, profundidade)`\n",
    "  - Saída: `(nova_altura, nova_largura, número_de_filtros)`\n"
   ]
  },
  {
   "attachments": {
    "image.png": {
     "image/png": "[encoded data removed]"
    }
   },
   "cell_type": "markdown",
   "id": "1999a68f",
   "metadata": {},
   "source": [
    "![image.png](attachment:image.png)"
   ]
  },
  {
   "cell_type": "code",
   "execution_count": 4,
   "id": "0f03a0a0",
   "metadata": {},
   "outputs": [],
   "source": [
    "from tensorflow import keras\n",
    "from tensorflow.keras import layers\n",
    "from tensorflow.keras.datasets import mnist"
   ]
  },
  {
   "cell_type": "markdown",
   "id": "7e6e1d24",
   "metadata": {},
   "source": [
    "## Lembrete:\n",
    "\n",
    "- Camadas de MaxPooling reduzem a dimensionalidade\n",
    "  - Serve para **reduzir a altura e a largura** dos mapas de características (feature maps).\n",
    "  - Exemplo: uma imagem de entrada 26×26 pode virar 13×13 após o `MaxPooling2D`.\n",
    "\n",
    "- **Como funciona?**\n",
    "  - Em vez de aplicar filtros aprendidos como na convolução, o max pooling aplica uma **operação fixa de máximo** em janelas da imagem.\n",
    "  - Normalmente usa-se janelas de **2×2 com stride 2**, o que significa que a janela se move de 2 em 2 pixels e captura o **maior valor** dentro dela.\n",
    "  - Isso reduz a imagem pela metade em cada dimensão (altura e largura).\n",
    "\n",
    "- **Por que usar Max Pooling?**\n",
    "  - **Reduz o custo computacional**, diminuindo o número de parâmetros e operações.\n",
    "  - **Torna os padrões mais robustos** a pequenas mudanças (translações) na posição dos objetos.\n",
    "  - Ajuda a rede a **focar nas características mais importantes** da imagem.\n"
   ]
  },
  {
   "cell_type": "code",
   "execution_count": 2,
   "id": "f7389c66",
   "metadata": {},
   "outputs": [],
   "source": [
    "inputs = keras.Input(shape=(28, 28, 1))\n",
    "\n",
    "x = layers.Conv2D(filters=32, kernel_size=3, activation=\"relu\")(inputs)\n",
    "x = layers.MaxPooling2D(pool_size=2)(x)\n",
    "x = layers.Conv2D(filters=64, kernel_size=3, activation=\"relu\")(x)\n",
    "x = layers.MaxPooling2D(pool_size=2)(x)\n",
    "x = layers.Conv2D(filters=128, kernel_size=3, activation=\"relu\")(x)\n",
    "x = layers.Flatten()(x)\n",
    "\n",
    "\n",
    "outputs = layers.Dense(10, activation=\"softmax\")(x)\n",
    "model = keras.Model(inputs=inputs, outputs=outputs)"
   ]
  },
  {
   "cell_type": "code",
   "execution_count": 3,
   "id": "3fffb8ef",
   "metadata": {},
   "outputs": [
    {
     "data": {
      "text/html": [
       "<pre style=\"white-space:pre;overflow-x:auto;line-height:normal;font-family:Menlo,'DejaVu Sans Mono',consolas,'Courier New',monospace\"><span style=\"font-weight: bold\">Model: \"functional\"</span>\n",
       "</pre>\n"
      ],
      "text/plain": [
       "\u001b[1mModel: \"functional\"\u001b[0m\n"
      ]
     },
     "metadata": {},
     "output_type": "display_data"
    },
    {
     "data": {
      "text/html": [
       "<pre style=\"white-space:pre;overflow-x:auto;line-height:normal;font-family:Menlo,'DejaVu Sans Mono',consolas,'Courier New',monospace\">┏━━━━━━━━━━━━━━━━━━━━━━━━━━━━━━━━━┳━━━━━━━━━━━━━━━━━━━━━━━━┳━━━━━━━━━━━━━━━┓\n",
       "┃<span style=\"font-weight: bold\"> Layer (type)                    </span>┃<span style=\"font-weight: bold\"> Output Shape           </span>┃<span style=\"font-weight: bold\">       Param # </span>┃\n",
       "┡━━━━━━━━━━━━━━━━━━━━━━━━━━━━━━━━━╇━━━━━━━━━━━━━━━━━━━━━━━━╇━━━━━━━━━━━━━━━┩\n",
       "│ input_layer (<span style=\"color: #0087ff; text-decoration-color: #0087ff\">InputLayer</span>)        │ (<span style=\"color: #00d7ff; text-decoration-color: #00d7ff\">None</span>, <span style=\"color: #00af00; text-decoration-color: #00af00\">28</span>, <span style=\"color: #00af00; text-decoration-color: #00af00\">28</span>, <span style=\"color: #00af00; text-decoration-color: #00af00\">1</span>)      │             <span style=\"color: #00af00; text-decoration-color: #00af00\">0</span> │\n",
       "├─────────────────────────────────┼────────────────────────┼───────────────┤\n",
       "│ conv2d (<span style=\"color: #0087ff; text-decoration-color: #0087ff\">Conv2D</span>)                 │ (<span style=\"color: #00d7ff; text-decoration-color: #00d7ff\">None</span>, <span style=\"color: #00af00; text-decoration-color: #00af00\">26</span>, <span style=\"color: #00af00; text-decoration-color: #00af00\">26</span>, <span style=\"color: #00af00; text-decoration-color: #00af00\">32</span>)     │           <span style=\"color: #00af00; text-decoration-color: #00af00\">320</span> │\n",
       "├─────────────────────────────────┼────────────────────────┼───────────────┤\n",
       "│ max_pooling2d (<span style=\"color: #0087ff; text-decoration-color: #0087ff\">MaxPooling2D</span>)    │ (<span style=\"color: #00d7ff; text-decoration-color: #00d7ff\">None</span>, <span style=\"color: #00af00; text-decoration-color: #00af00\">13</span>, <span style=\"color: #00af00; text-decoration-color: #00af00\">13</span>, <span style=\"color: #00af00; text-decoration-color: #00af00\">32</span>)     │             <span style=\"color: #00af00; text-decoration-color: #00af00\">0</span> │\n",
       "├─────────────────────────────────┼────────────────────────┼───────────────┤\n",
       "│ conv2d_1 (<span style=\"color: #0087ff; text-decoration-color: #0087ff\">Conv2D</span>)               │ (<span style=\"color: #00d7ff; text-decoration-color: #00d7ff\">None</span>, <span style=\"color: #00af00; text-decoration-color: #00af00\">11</span>, <span style=\"color: #00af00; text-decoration-color: #00af00\">11</span>, <span style=\"color: #00af00; text-decoration-color: #00af00\">64</span>)     │        <span style=\"color: #00af00; text-decoration-color: #00af00\">18,496</span> │\n",
       "├─────────────────────────────────┼────────────────────────┼───────────────┤\n",
       "│ max_pooling2d_1 (<span style=\"color: #0087ff; text-decoration-color: #0087ff\">MaxPooling2D</span>)  │ (<span style=\"color: #00d7ff; text-decoration-color: #00d7ff\">None</span>, <span style=\"color: #00af00; text-decoration-color: #00af00\">5</span>, <span style=\"color: #00af00; text-decoration-color: #00af00\">5</span>, <span style=\"color: #00af00; text-decoration-color: #00af00\">64</span>)       │             <span style=\"color: #00af00; text-decoration-color: #00af00\">0</span> │\n",
       "├─────────────────────────────────┼────────────────────────┼───────────────┤\n",
       "│ conv2d_2 (<span style=\"color: #0087ff; text-decoration-color: #0087ff\">Conv2D</span>)               │ (<span style=\"color: #00d7ff; text-decoration-color: #00d7ff\">None</span>, <span style=\"color: #00af00; text-decoration-color: #00af00\">3</span>, <span style=\"color: #00af00; text-decoration-color: #00af00\">3</span>, <span style=\"color: #00af00; text-decoration-color: #00af00\">128</span>)      │        <span style=\"color: #00af00; text-decoration-color: #00af00\">73,856</span> │\n",
       "├─────────────────────────────────┼────────────────────────┼───────────────┤\n",
       "│ flatten (<span style=\"color: #0087ff; text-decoration-color: #0087ff\">Flatten</span>)               │ (<span style=\"color: #00d7ff; text-decoration-color: #00d7ff\">None</span>, <span style=\"color: #00af00; text-decoration-color: #00af00\">1152</span>)           │             <span style=\"color: #00af00; text-decoration-color: #00af00\">0</span> │\n",
       "├─────────────────────────────────┼────────────────────────┼───────────────┤\n",
       "│ dense (<span style=\"color: #0087ff; text-decoration-color: #0087ff\">Dense</span>)                   │ (<span style=\"color: #00d7ff; text-decoration-color: #00d7ff\">None</span>, <span style=\"color: #00af00; text-decoration-color: #00af00\">10</span>)             │        <span style=\"color: #00af00; text-decoration-color: #00af00\">11,530</span> │\n",
       "└─────────────────────────────────┴────────────────────────┴───────────────┘\n",
       "</pre>\n"
      ],
      "text/plain": [
       "┏━━━━━━━━━━━━━━━━━━━━━━━━━━━━━━━━━┳━━━━━━━━━━━━━━━━━━━━━━━━┳━━━━━━━━━━━━━━━┓\n",
       "┃\u001b[1m \u001b[0m\u001b[1mLayer (type)                   \u001b[0m\u001b[1m \u001b[0m┃\u001b[1m \u001b[0m\u001b[1mOutput Shape          \u001b[0m\u001b[1m \u001b[0m┃\u001b[1m \u001b[0m\u001b[1m      Param #\u001b[0m\u001b[1m \u001b[0m┃\n",
       "┡━━━━━━━━━━━━━━━━━━━━━━━━━━━━━━━━━╇━━━━━━━━━━━━━━━━━━━━━━━━╇━━━━━━━━━━━━━━━┩\n",
       "│ input_layer (\u001b[38;5;33mInputLayer\u001b[0m)        │ (\u001b[38;5;45mNone\u001b[0m, \u001b[38;5;34m28\u001b[0m, \u001b[38;5;34m28\u001b[0m, \u001b[38;5;34m1\u001b[0m)      │             \u001b[38;5;34m0\u001b[0m │\n",
       "├─────────────────────────────────┼────────────────────────┼───────────────┤\n",
       "│ conv2d (\u001b[38;5;33mConv2D\u001b[0m)                 │ (\u001b[38;5;45mNone\u001b[0m, \u001b[38;5;34m26\u001b[0m, \u001b[38;5;34m26\u001b[0m, \u001b[38;5;34m32\u001b[0m)     │           \u001b[38;5;34m320\u001b[0m │\n",
       "├─────────────────────────────────┼────────────────────────┼───────────────┤\n",
       "│ max_pooling2d (\u001b[38;5;33mMaxPooling2D\u001b[0m)    │ (\u001b[38;5;45mNone\u001b[0m, \u001b[38;5;34m13\u001b[0m, \u001b[38;5;34m13\u001b[0m, \u001b[38;5;34m32\u001b[0m)     │             \u001b[38;5;34m0\u001b[0m │\n",
       "├─────────────────────────────────┼────────────────────────┼───────────────┤\n",
       "│ conv2d_1 (\u001b[38;5;33mConv2D\u001b[0m)               │ (\u001b[38;5;45mNone\u001b[0m, \u001b[38;5;34m11\u001b[0m, \u001b[38;5;34m11\u001b[0m, \u001b[38;5;34m64\u001b[0m)     │        \u001b[38;5;34m18,496\u001b[0m │\n",
       "├─────────────────────────────────┼────────────────────────┼───────────────┤\n",
       "│ max_pooling2d_1 (\u001b[38;5;33mMaxPooling2D\u001b[0m)  │ (\u001b[38;5;45mNone\u001b[0m, \u001b[38;5;34m5\u001b[0m, \u001b[38;5;34m5\u001b[0m, \u001b[38;5;34m64\u001b[0m)       │             \u001b[38;5;34m0\u001b[0m │\n",
       "├─────────────────────────────────┼────────────────────────┼───────────────┤\n",
       "│ conv2d_2 (\u001b[38;5;33mConv2D\u001b[0m)               │ (\u001b[38;5;45mNone\u001b[0m, \u001b[38;5;34m3\u001b[0m, \u001b[38;5;34m3\u001b[0m, \u001b[38;5;34m128\u001b[0m)      │        \u001b[38;5;34m73,856\u001b[0m │\n",
       "├─────────────────────────────────┼────────────────────────┼───────────────┤\n",
       "│ flatten (\u001b[38;5;33mFlatten\u001b[0m)               │ (\u001b[38;5;45mNone\u001b[0m, \u001b[38;5;34m1152\u001b[0m)           │             \u001b[38;5;34m0\u001b[0m │\n",
       "├─────────────────────────────────┼────────────────────────┼───────────────┤\n",
       "│ dense (\u001b[38;5;33mDense\u001b[0m)                   │ (\u001b[38;5;45mNone\u001b[0m, \u001b[38;5;34m10\u001b[0m)             │        \u001b[38;5;34m11,530\u001b[0m │\n",
       "└─────────────────────────────────┴────────────────────────┴───────────────┘\n"
      ]
     },
     "metadata": {},
     "output_type": "display_data"
    },
    {
     "data": {
      "text/html": [
       "<pre style=\"white-space:pre;overflow-x:auto;line-height:normal;font-family:Menlo,'DejaVu Sans Mono',consolas,'Courier New',monospace\"><span style=\"font-weight: bold\"> Total params: </span><span style=\"color: #00af00; text-decoration-color: #00af00\">104,202</span> (407.04 KB)\n",
       "</pre>\n"
      ],
      "text/plain": [
       "\u001b[1m Total params: \u001b[0m\u001b[38;5;34m104,202\u001b[0m (407.04 KB)\n"
      ]
     },
     "metadata": {},
     "output_type": "display_data"
    },
    {
     "data": {
      "text/html": [
       "<pre style=\"white-space:pre;overflow-x:auto;line-height:normal;font-family:Menlo,'DejaVu Sans Mono',consolas,'Courier New',monospace\"><span style=\"font-weight: bold\"> Trainable params: </span><span style=\"color: #00af00; text-decoration-color: #00af00\">104,202</span> (407.04 KB)\n",
       "</pre>\n"
      ],
      "text/plain": [
       "\u001b[1m Trainable params: \u001b[0m\u001b[38;5;34m104,202\u001b[0m (407.04 KB)\n"
      ]
     },
     "metadata": {},
     "output_type": "display_data"
    },
    {
     "data": {
      "text/html": [
       "<pre style=\"white-space:pre;overflow-x:auto;line-height:normal;font-family:Menlo,'DejaVu Sans Mono',consolas,'Courier New',monospace\"><span style=\"font-weight: bold\"> Non-trainable params: </span><span style=\"color: #00af00; text-decoration-color: #00af00\">0</span> (0.00 B)\n",
       "</pre>\n"
      ],
      "text/plain": [
       "\u001b[1m Non-trainable params: \u001b[0m\u001b[38;5;34m0\u001b[0m (0.00 B)\n"
      ]
     },
     "metadata": {},
     "output_type": "display_data"
    }
   ],
   "source": [
    "model.summary()"
   ]
  },
  {
   "cell_type": "code",
   "execution_count": 5,
   "id": "d5d3d080",
   "metadata": {},
   "outputs": [
    {
     "name": "stdout",
     "output_type": "stream",
     "text": [
      "Epoch 1/5\n",
      "\u001b[1m938/938\u001b[0m \u001b[32m━━━━━━━━━━━━━━━━━━━━\u001b[0m\u001b[37m\u001b[0m \u001b[1m17s\u001b[0m 17ms/step - accuracy: 0.8823 - loss: 0.3698\n",
      "Epoch 2/5\n",
      "\u001b[1m938/938\u001b[0m \u001b[32m━━━━━━━━━━━━━━━━━━━━\u001b[0m\u001b[37m\u001b[0m \u001b[1m17s\u001b[0m 18ms/step - accuracy: 0.9855 - loss: 0.0479\n",
      "Epoch 3/5\n",
      "\u001b[1m938/938\u001b[0m \u001b[32m━━━━━━━━━━━━━━━━━━━━\u001b[0m\u001b[37m\u001b[0m \u001b[1m18s\u001b[0m 20ms/step - accuracy: 0.9908 - loss: 0.0311\n",
      "Epoch 4/5\n",
      "\u001b[1m938/938\u001b[0m \u001b[32m━━━━━━━━━━━━━━━━━━━━\u001b[0m\u001b[37m\u001b[0m \u001b[1m26s\u001b[0m 28ms/step - accuracy: 0.9935 - loss: 0.0228\n",
      "Epoch 5/5\n",
      "\u001b[1m938/938\u001b[0m \u001b[32m━━━━━━━━━━━━━━━━━━━━\u001b[0m\u001b[37m\u001b[0m \u001b[1m15s\u001b[0m 16ms/step - accuracy: 0.9953 - loss: 0.0168\n"
     ]
    },
    {
     "data": {
      "text/plain": [
       "<keras.src.callbacks.history.History at 0x16234d99f70>"
      ]
     },
     "execution_count": 5,
     "metadata": {},
     "output_type": "execute_result"
    }
   ],
   "source": [
    "(train_images, train_labels), (test_images, test_labels) = mnist.load_data()\n",
    "\n",
    "train_images = train_images.reshape((60000, 28, 28, 1))\n",
    "train_images = train_images.astype(\"float32\") / 255\n",
    "test_images = test_images.reshape((10000, 28, 28, 1))\n",
    "test_images = test_images.astype(\"float32\") / 255\n",
    "\n",
    "model.compile(optimizer=\"rmsprop\",\n",
    "    loss=\"sparse_categorical_crossentropy\",\n",
    "    metrics=[\"accuracy\"])\n",
    "\n",
    "model.fit(train_images, train_labels, epochs=5, batch_size=64)"
   ]
  },
  {
   "cell_type": "code",
   "execution_count": 6,
   "id": "335d4b25",
   "metadata": {},
   "outputs": [
    {
     "name": "stdout",
     "output_type": "stream",
     "text": [
      "\u001b[1m313/313\u001b[0m \u001b[32m━━━━━━━━━━━━━━━━━━━━\u001b[0m\u001b[37m\u001b[0m \u001b[1m2s\u001b[0m 6ms/step - accuracy: 0.9898 - loss: 0.0331\n"
     ]
    }
   ],
   "source": [
    "test_loss, test_acc = model.evaluate(test_images, test_labels)"
   ]
  },
  {
   "cell_type": "code",
   "execution_count": 7,
   "id": "a3970612",
   "metadata": {},
   "outputs": [
    {
     "name": "stdout",
     "output_type": "stream",
     "text": [
      "Test accuracy: 0.992\n"
     ]
    }
   ],
   "source": [
    "print(f\"Test accuracy: {test_acc:.3f}\")"
   ]
  },
  {
   "cell_type": "markdown",
   "id": "a84dee6a",
   "metadata": {},
   "source": [
    "### Fine-Tuning de um Modelo Pré-Treinado\n",
    "\n",
    "**O que é Fine-Tuning?**\n",
    "- É uma técnica usada para **ajustar finamente** os pesos de um modelo pré-treinado, tornando-o mais específico para um novo problema.\n",
    "- Consiste em **descongelar (unfreeze)** algumas das últimas camadas do modelo base e **treiná-las junto com a nova parte adicionada**, geralmente um classificador denso.\n",
    "\n",
    "**Quando usar Fine-Tuning?**\n",
    "- Depois de treinar um classificador personalizado sobre um modelo congelado.\n",
    "- Útil quando temos um conjunto de dados menor, mas queremos aproveitar representações aprendidas de um modelo robusto como o **VGG16**.\n",
    "\n",
    "**Por que não descongelar tudo desde o início?**\n",
    "- Porque os gradientes gerados pelo classificador ainda não treinado são grandes e **podem destruir as representações úteis** aprendidas pelas camadas convolucionais.\n",
    "\n",
    "\n",
    "### Passos para Fazer Fine-Tuning\n",
    "\n",
    "1. **Adicionar** uma rede personalizada (ex: um classificador denso) no topo de um modelo base já treinado.\n",
    "2. **Congelar o modelo base** (não permitir o ajuste de seus pesos).\n",
    "3. **Treinar apenas o classificador adicionado.**\n",
    "4. **Descongelar algumas camadas superiores** do modelo base (deixar que seus pesos possam ser ajustados).\n",
    "   - **Não descongelar camadas de _Batch Normalization_**, pois isso pode prejudicar a estabilidade do treinamento.\n",
    "5. **Treinar novamente**, agora ajustando tanto as camadas descongeladas do modelo base quanto o classificador.\n",
    "\n",
    "\n",
    "\n"
   ]
  }
 ],
 "metadata": {
  "kernelspec": {
   "display_name": "redes-neurais",
   "language": "python",
   "name": "python3"
  },
  "language_info": {
   "codemirror_mode": {
    "name": "ipython",
    "version": 3
   },
   "file_extension": ".py",
   "mimetype": "text/x-python",
   "name": "python",
   "nbconvert_exporter": "python",
   "pygments_lexer": "ipython3",
   "version": "3.12.8"
  }
 },
 "nbformat": 4,
 "nbformat_minor": 5
}
