{
 "cells": [
  {
   "cell_type": "markdown",
   "id": "2e5fbd54",
   "metadata": {},
   "source": [
    "### Exercício 2.1.1\n",
    "Escreva uma expressão regular para o conjunto de todas as strings alfabéticas."
   ]
  },
  {
   "cell_type": "code",
   "execution_count": null,
   "id": "c5004f55",
   "metadata": {},
   "outputs": [],
   "source": [
    "^[A-Za-z]+$\n",
    "\n",
    "onde ^ marca o início da string\n",
    "+ significa que tem que tem pelo menos uma letra\n",
    "$ marca o final da string"
   ]
  },
  {
   "cell_type": "markdown",
   "id": "4abbecce",
   "metadata": {},
   "source": [
    "### Exercício 2.1.2\n",
    "Strings formadas apenas por letras minúsculas e que terminam com a letra b."
   ]
  },
  {
   "cell_type": "markdown",
   "id": "7024b8f2",
   "metadata": {},
   "source": [
    "^[a-z]+b$"
   ]
  },
  {
   "cell_type": "markdown",
   "id": "e794565d",
   "metadata": {},
   "source": [
    "### Exercício 2.1.3\n",
    "Cadeias com 'a' cercado por 'b' dos dois lados, usando o alfabeto {a, b}."
   ]
  },
  {
   "cell_type": "code",
   "execution_count": null,
   "id": "5cef10a5",
   "metadata": {},
   "outputs": [],
   "source": [
    "^[b*(bab)*b*]*$\n",
    "\n",
    "onde b* significa que tem zero ou mais 'b' antes\n",
    "(bab)* zero ou mais repetições dessa sequência\n",
    "b* significa que tem zero ou mais 'b' depois"
   ]
  },
  {
   "cell_type": "markdown",
   "id": "8ea8f8f2",
   "metadata": {},
   "source": [
    "### Exercício 2.2.1\n",
    "Strings com duas palavras idênticas consecutivas (ex: “the the”)."
   ]
  },
  {
   "cell_type": "code",
   "execution_count": null,
   "id": "ad01deaf",
   "metadata": {},
   "outputs": [],
   "source": [
    "\\b(\\w+)\\b\\s+\\1\\b \n",
    "onde \\b marca limite de uma palavra\n",
    "(\\w+) captura uma palavra\n",
    "\\s+ dá espaço entre as palavras\n",
    "\\1 faz referencia para a mesma palavra capturada"
   ]
  },
  {
   "cell_type": "markdown",
   "id": "d1ec2e15",
   "metadata": {},
   "source": [
    "### Exercício 3.0.1\n",
    "\n",
    "Qual palavra está mais próxima de \"drive\"?\n",
    "Distância entre \"drive\" e \"brief\", e \"drive\" e \"divers\"."
   ]
  },
  {
   "cell_type": "code",
   "execution_count": 7,
   "id": "647a6e1b",
   "metadata": {},
   "outputs": [
    {
     "name": "stdout",
     "output_type": "stream",
     "text": [
      "brief: 3\n",
      "divers: 3\n"
     ]
    }
   ],
   "source": [
    "import nltk\n",
    "from nltk.metrics.distance import edit_distance\n",
    "\n",
    "print(\"brief:\", edit_distance(\"drive\", \"brief\"))\n",
    "print(\"divers:\", edit_distance(\"drive\", \"divers\"))"
   ]
  }
 ],
 "metadata": {
  "kernelspec": {
   "display_name": "myenv",
   "language": "python",
   "name": "python3"
  },
  "language_info": {
   "codemirror_mode": {
    "name": "ipython",
    "version": 3
   },
   "file_extension": ".py",
   "mimetype": "text/x-python",
   "name": "python",
   "nbconvert_exporter": "python",
   "pygments_lexer": "ipython3",
   "version": "3.10.16"
  }
 },
 "nbformat": 4,
 "nbformat_minor": 5
}
