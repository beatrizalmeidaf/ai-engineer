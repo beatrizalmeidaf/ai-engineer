{
 "cells": [
  {
   "cell_type": "markdown",
   "id": "8030b98a",
   "metadata": {},
   "source": [
    "# Modelo Bigram \n",
    "\n",
    "O modelo **Bigram** é uma abordagem probabilística simples usada em Processamento de Linguagem Natural (NLP) para modelar a sequência de palavras em um texto. Ele assume que a probabilidade de uma palavra em uma frase depende apenas da palavra imediatamente anterior. Essa suposição simplifica os cálculos, mas não considera relações mais amplas no contexto.\n",
    "\n",
    "\n",
    "### Exemplos de uso:\n",
    "- **Autocompletar textos:** Dado o contexto de uma palavra anterior, o modelo sugere a próxima palavra provável.\n",
    "- **Correção ortográfica:** Ajuda a prever palavras que fazem mais sentido no contexto.\n",
    "- **Tradução automática:** Pode ser usado para prever sequências de palavras na língua-alvo.\n",
    "\n",
    "### Limitações:\n",
    "- **Falta de contexto:** O modelo só considera a palavra anterior, ignorando palavras mais distantes que podem ser relevantes.\n",
    "- **Sparsity (esparsidade):** Em grandes vocabulários, muitas combinações de palavras podem nunca ocorrer no conjunto de treinamento, o que dificulta a estimativa das probabilidades.\n",
    "- **Não captura dependências longas:** Relações entre palavras distantes no texto não são levadas em conta.\n",
    "\n",
    "### Extensões:\n",
    "Para superar essas limitações, foram desenvolvidos modelos mais complexos, como **Trigram** (que considera duas palavras anteriores) e modelos baseados em redes neurais, como os **LSTMs** e **Transformers**, que conseguem capturar dependências de longo alcance e fornecer resultados mais robustos."
   ]
  },
  {
   "cell_type": "code",
   "execution_count": 5,
   "id": "aa258021",
   "metadata": {},
   "outputs": [],
   "source": [
    "import torch"
   ]
  },
  {
   "cell_type": "code",
   "execution_count": 1,
   "id": "efccf561-84fc-4139-9a53-03382109f54b",
   "metadata": {},
   "outputs": [
    {
     "name": "stdout",
     "output_type": "stream",
     "text": [
      "232326\n",
      "﻿\n",
      "  DOROTHY AND THE WIZARD IN OZ\n",
      "\n",
      "  BY\n",
      "\n",
      "  L. FRANK BAUM\n",
      "\n",
      "  AUTHOR OF THE WIZARD OF OZ, THE LAND OF OZ, OZMA OF OZ, ETC.\n",
      "\n",
      "  ILLUSTRATED BY JOHN R. NEILL\n",
      "\n",
      "  BOOKS OF WONDER WILLIAM MORROW & CO., INC. NEW\n"
     ]
    }
   ],
   "source": [
    "with open('wizard_of_oz.txt', 'r', encoding='utf-8') as f:\n",
    "    text = f.read()\n",
    "\n",
    "print(len(text))\n",
    "print(text[:201])"
   ]
  },
  {
   "cell_type": "code",
   "execution_count": 2,
   "id": "103b1c55-f5c8-440c-97ba-4d5bb9721a8f",
   "metadata": {},
   "outputs": [
    {
     "name": "stdout",
     "output_type": "stream",
     "text": [
      "['\\n', ' ', '!', '\"', '&', \"'\", '(', ')', '*', ',', '-', '.', '0', '1', '2', '3', '4', '5', '6', '7', '8', '9', ':', ';', '?', 'A', 'B', 'C', 'D', 'E', 'F', 'G', 'H', 'I', 'J', 'K', 'L', 'M', 'N', 'O', 'P', 'Q', 'R', 'S', 'T', 'U', 'V', 'W', 'X', 'Y', 'Z', '[', ']', '_', 'a', 'b', 'c', 'd', 'e', 'f', 'g', 'h', 'i', 'j', 'k', 'l', 'm', 'n', 'o', 'p', 'q', 'r', 's', 't', 'u', 'v', 'w', 'x', 'y', 'z', '\\ufeff']\n"
     ]
    }
   ],
   "source": [
    "chars = sorted(set(text))\n",
    "print(chars)"
   ]
  },
  {
   "cell_type": "markdown",
   "id": "968c223b",
   "metadata": {},
   "source": [
    "Tokenização é o processo de dividir um texto em partes menores, chamadas de tokens. Tokens podem ser palavras, caracteres, ou até subpalavras, dependendo do objetivo.\n",
    "No caso do código o texto está sendo dividido em caracteres, e cada caractere será convertido para um número (índice) usando uma função encode. Esse processo é essencial para que textos sejam representados numericamente e usados em modelos de aprendizado de máquina.\n"
   ]
  },
  {
   "cell_type": "code",
   "execution_count": 3,
   "id": "a9fccde8",
   "metadata": {},
   "outputs": [
    {
     "name": "stdout",
     "output_type": "stream",
     "text": [
      "[61, 58, 65, 65, 68]\n"
     ]
    }
   ],
   "source": [
    "# criação de um dicionário que mapeia cada caractere para um número\n",
    "string_to_int = { ch:i for i, ch in enumerate(chars)} # o resultado será algo como: {'a': 0, 'b': 1, ..., 'z': 25}\n",
    "\n",
    "# criação de um dicionário inverso que mapeia números de volta para os caracteres\n",
    "int_to_string = { i:ch for i,ch in enumerate(chars)} # exemplo: {0: 'a', 1: 'b', ..., 25: 'z'}\n",
    "\n",
    "encode = lambda s: [string_to_int[c] for c in s]\n",
    "decode = lambda l: ''.join(int_to_string[i] for i in l) # ''.join(...) junta todos os caracteres em uma única string\n",
    "\n",
    "print(encode('hello'))"
   ]
  },
  {
   "cell_type": "markdown",
   "id": "77782a51",
   "metadata": {},
   "source": [
    "Um tensor é uma estrutura de dados que generaliza vetores (1D) e matrizes (2D) para mais dimensões (N-dimensional arrays). Usada para representar dados, como vetores ou matrizes."
   ]
  },
  {
   "cell_type": "code",
   "execution_count": 6,
   "id": "6bbc38ef",
   "metadata": {},
   "outputs": [
    {
     "name": "stdout",
     "output_type": "stream",
     "text": [
      "tensor([80,  0,  1,  1, 28, 39, 42, 39, 44, 32, 49,  1, 25, 38, 28,  1, 44, 32,\n",
      "        29,  1, 47, 33, 50, 25, 42, 28,  1, 33, 38,  1, 39, 50,  0,  0,  1,  1,\n",
      "        26, 49,  0,  0,  1,  1, 36, 11,  1, 30, 42, 25, 38, 35,  1, 26, 25, 45,\n",
      "        37,  0,  0,  1,  1, 25, 45, 44, 32, 39, 42,  1, 39, 30,  1, 44, 32, 29,\n",
      "         1, 47, 33, 50, 25, 42, 28,  1, 39, 30,  1, 39, 50,  9,  1, 44, 32, 29,\n",
      "         1, 36, 25, 38, 28,  1, 39, 30,  1, 39])\n"
     ]
    }
   ],
   "source": [
    "data = torch.tensor(encode(text), dtype=torch.long)\n",
    "print(data[:100])"
   ]
  },
  {
   "cell_type": "markdown",
   "id": "90d805ae",
   "metadata": {},
   "source": [
    "Texto -> Tokens -> Tensor "
   ]
  }
 ],
 "metadata": {
  "kernelspec": {
   "display_name": "myenv",
   "language": "python",
   "name": "python3"
  },
  "language_info": {
   "codemirror_mode": {
    "name": "ipython",
    "version": 3
   },
   "file_extension": ".py",
   "mimetype": "text/x-python",
   "name": "python",
   "nbconvert_exporter": "python",
   "pygments_lexer": "ipython3",
   "version": "3.10.16"
  }
 },
 "nbformat": 4,
 "nbformat_minor": 5
}
