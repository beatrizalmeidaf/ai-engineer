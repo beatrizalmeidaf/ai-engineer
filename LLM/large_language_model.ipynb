{
 "cells": [
  {
   "cell_type": "markdown",
   "id": "8030b98a",
   "metadata": {},
   "source": [
    "# Modelo Bigram \n",
    "\n",
    "O modelo **Bigram** é uma abordagem probabilística simples usada em Processamento de Linguagem Natural (NLP) para modelar a sequência de palavras em um texto. Ele assume que a probabilidade de uma palavra em uma frase depende apenas da palavra imediatamente anterior. Essa suposição simplifica os cálculos, mas não considera relações mais amplas no contexto.\n",
    "\n",
    "\n",
    "### Exemplos de uso:\n",
    "- **Autocompletar textos:** Dado o contexto de uma palavra anterior, o modelo sugere a próxima palavra provável.\n",
    "- **Correção ortográfica:** Ajuda a prever palavras que fazem mais sentido no contexto.\n",
    "- **Tradução automática:** Pode ser usado para prever sequências de palavras na língua-alvo.\n",
    "\n",
    "### Limitações:\n",
    "- **Falta de contexto:** O modelo só considera a palavra anterior, ignorando palavras mais distantes que podem ser relevantes.\n",
    "- **Sparsity (esparsidade):** Em grandes vocabulários, muitas combinações de palavras podem nunca ocorrer no conjunto de treinamento, o que dificulta a estimativa das probabilidades.\n",
    "- **Não captura dependências longas:** Relações entre palavras distantes no texto não são levadas em conta.\n",
    "\n",
    "### Extensões:\n",
    "Para superar essas limitações, foram desenvolvidos modelos mais complexos, como **Trigram** (que considera duas palavras anteriores) e modelos baseados em redes neurais, como os **LSTMs** e **Transformers**, que conseguem capturar dependências de longo alcance e fornecer resultados mais robustos."
   ]
  },
  {
   "cell_type": "code",
   "execution_count": 9,
   "id": "aa258021",
   "metadata": {},
   "outputs": [
    {
     "name": "stdout",
     "output_type": "stream",
     "text": [
      "cpu\n"
     ]
    }
   ],
   "source": [
    "import torch\n",
    "import torch.nn as nn\n",
    "from torch.nn import functional as f\n",
    "device = 'cuda' if torch.cuda.is_available() else 'cpu'\n",
    "print(device)"
   ]
  },
  {
   "cell_type": "code",
   "execution_count": 2,
   "id": "efccf561-84fc-4139-9a53-03382109f54b",
   "metadata": {},
   "outputs": [
    {
     "name": "stdout",
     "output_type": "stream",
     "text": [
      "232326\n",
      "﻿\n",
      "  DOROTHY AND THE WIZARD IN OZ\n",
      "\n",
      "  BY\n",
      "\n",
      "  L. FRANK BAUM\n",
      "\n",
      "  AUTHOR OF THE WIZARD OF OZ, THE LAND OF OZ, OZMA OF OZ, ETC.\n",
      "\n",
      "  ILLUSTRATED BY JOHN R. NEILL\n",
      "\n",
      "  BOOKS OF WONDER WILLIAM MORROW & CO., INC. NEW\n"
     ]
    }
   ],
   "source": [
    "with open('wizard_of_oz.txt', 'r', encoding='utf-8') as f:\n",
    "    text = f.read()\n",
    "\n",
    "print(len(text))\n",
    "print(text[:201])"
   ]
  },
  {
   "cell_type": "code",
   "execution_count": 10,
   "id": "103b1c55-f5c8-440c-97ba-4d5bb9721a8f",
   "metadata": {},
   "outputs": [
    {
     "name": "stdout",
     "output_type": "stream",
     "text": [
      "['\\n', ' ', '!', '\"', '&', \"'\", '(', ')', '*', ',', '-', '.', '0', '1', '2', '3', '4', '5', '6', '7', '8', '9', ':', ';', '?', 'A', 'B', 'C', 'D', 'E', 'F', 'G', 'H', 'I', 'J', 'K', 'L', 'M', 'N', 'O', 'P', 'Q', 'R', 'S', 'T', 'U', 'V', 'W', 'X', 'Y', 'Z', '[', ']', '_', 'a', 'b', 'c', 'd', 'e', 'f', 'g', 'h', 'i', 'j', 'k', 'l', 'm', 'n', 'o', 'p', 'q', 'r', 's', 't', 'u', 'v', 'w', 'x', 'y', 'z', '\\ufeff']\n"
     ]
    }
   ],
   "source": [
    "chars = sorted(set(text))\n",
    "print(chars)\n",
    "vocab_size = len(chars)"
   ]
  },
  {
   "cell_type": "markdown",
   "id": "968c223b",
   "metadata": {},
   "source": [
    "Tokenização é o processo de dividir um texto em partes menores, chamadas de tokens. Tokens podem ser palavras, caracteres, ou até subpalavras, dependendo do objetivo.\n",
    "No caso do código o texto está sendo dividido em caracteres, e cada caractere será convertido para um número (índice) usando uma função encode. Esse processo é essencial para que textos sejam representados numericamente e usados em modelos de aprendizado de máquina.\n"
   ]
  },
  {
   "cell_type": "code",
   "execution_count": 4,
   "id": "a9fccde8",
   "metadata": {},
   "outputs": [
    {
     "name": "stdout",
     "output_type": "stream",
     "text": [
      "[61, 58, 65, 65, 68]\n"
     ]
    }
   ],
   "source": [
    "# criação de um dicionário que mapeia cada caractere para um número\n",
    "string_to_int = { ch:i for i, ch in enumerate(chars)} # o resultado será algo como: {'a': 0, 'b': 1, ..., 'z': 25}\n",
    "\n",
    "# criação de um dicionário inverso que mapeia números de volta para os caracteres\n",
    "int_to_string = { i:ch for i,ch in enumerate(chars)} # exemplo: {0: 'a', 1: 'b', ..., 25: 'z'}\n",
    "\n",
    "encode = lambda s: [string_to_int[c] for c in s]\n",
    "decode = lambda l: ''.join(int_to_string[i] for i in l) # ''.join(...) junta todos os caracteres em uma única string\n",
    "\n",
    "print(encode('hello'))"
   ]
  },
  {
   "cell_type": "markdown",
   "id": "77782a51",
   "metadata": {},
   "source": [
    "Um tensor é uma estrutura de dados que generaliza vetores (1D) e matrizes (2D) para mais dimensões (N-dimensional arrays). Usada para representar dados, como vetores ou matrizes."
   ]
  },
  {
   "cell_type": "code",
   "execution_count": 5,
   "id": "6bbc38ef",
   "metadata": {},
   "outputs": [
    {
     "name": "stdout",
     "output_type": "stream",
     "text": [
      "tensor([80,  0,  1,  1, 28, 39, 42, 39, 44, 32, 49,  1, 25, 38, 28,  1, 44, 32,\n",
      "        29,  1, 47, 33, 50, 25, 42, 28,  1, 33, 38,  1, 39, 50,  0,  0,  1,  1,\n",
      "        26, 49,  0,  0,  1,  1, 36, 11,  1, 30, 42, 25, 38, 35,  1, 26, 25, 45,\n",
      "        37,  0,  0,  1,  1, 25, 45, 44, 32, 39, 42,  1, 39, 30,  1, 44, 32, 29,\n",
      "         1, 47, 33, 50, 25, 42, 28,  1, 39, 30,  1, 39, 50,  9,  1, 44, 32, 29,\n",
      "         1, 36, 25, 38, 28,  1, 39, 30,  1, 39])\n"
     ]
    }
   ],
   "source": [
    "data = torch.tensor(encode(text), dtype=torch.long)\n",
    "print(data[:100])"
   ]
  },
  {
   "cell_type": "markdown",
   "id": "90d805ae",
   "metadata": {},
   "source": [
    "Texto -> Tokens -> Tensor "
   ]
  },
  {
   "cell_type": "markdown",
   "id": "ae0d0879",
   "metadata": {},
   "source": [
    "#### Separação em treino e teste"
   ]
  },
  {
   "cell_type": "code",
   "execution_count": 6,
   "id": "331146d4",
   "metadata": {},
   "outputs": [],
   "source": [
    "n = int(0.8*len(data))\n",
    "\n",
    "train_data = data[:n]\n",
    "val_data = data[n:]"
   ]
  },
  {
   "cell_type": "markdown",
   "id": "463acd94",
   "metadata": {},
   "source": [
    "O método abaixo é útil em modelos de linguagem para ensinar a prever o próximo caractere ou palavra com base no que veio antes"
   ]
  },
  {
   "cell_type": "code",
   "execution_count": 7,
   "id": "dc49f875",
   "metadata": {},
   "outputs": [
    {
     "name": "stdout",
     "output_type": "stream",
     "text": [
      "Quando a entrada é tensor([80]), target é 0\n",
      "Quando a entrada é tensor([80,  0]), target é 1\n",
      "Quando a entrada é tensor([80,  0,  1]), target é 1\n",
      "Quando a entrada é tensor([80,  0,  1,  1]), target é 28\n",
      "Quando a entrada é tensor([80,  0,  1,  1, 28]), target é 39\n",
      "Quando a entrada é tensor([80,  0,  1,  1, 28, 39]), target é 42\n",
      "Quando a entrada é tensor([80,  0,  1,  1, 28, 39, 42]), target é 39\n",
      "Quando a entrada é tensor([80,  0,  1,  1, 28, 39, 42, 39]), target é 44\n"
     ]
    }
   ],
   "source": [
    "block_size = 8 # tamanho do bloco que vamos pegar aleatoriamente do texto\n",
    "batch_size = 4\n",
    "\n",
    "\n",
    "x = train_data[:block_size]\n",
    "y = train_data[1:block_size + 1] # pega o texto e desloca uma posição para frente\n",
    "\n",
    "for t in range(block_size):\n",
    "    context = x[:t+1]\n",
    "    target = y[t]\n",
    "    print(f\"Quando a entrada é {context}, target é {target}\")"
   ]
  },
  {
   "cell_type": "markdown",
   "id": "c10c16e7",
   "metadata": {},
   "source": [
    "##### O código abaixo serve para preparar lotes de dados (batches) para treinar o modelo criando pares entrada-saída. Exemplo: se fosse a string \"hello world\", e block_size = 4, o código poderia gerar:\n",
    "\n",
    "x = \"hell\"\n",
    "y = \"ello\"\n",
    "\n",
    "ele ensina o modelo que dado \"hell\", o próximo caractere esperado é \"o\""
   ]
  },
  {
   "cell_type": "code",
   "execution_count": 8,
   "id": "074094a3",
   "metadata": {},
   "outputs": [
    {
     "name": "stdout",
     "output_type": "stream",
     "text": [
      "tensor([ 84468, 170000,  81837, 129046])\n",
      "inputs:\n",
      "tensor([[74, 67,  1, 68, 71,  1, 66, 68],\n",
      "        [54, 57, 57, 58, 57,  1, 54,  1],\n",
      "        [ 1, 28, 68, 71, 68, 73, 61, 78],\n",
      "        [59, 54, 71,  1, 54, 76, 54, 78]])\n",
      "targets:\n",
      "tensor([[67,  1, 68, 71,  1, 66, 68, 68],\n",
      "        [57, 57, 58, 57,  1, 54,  1, 73],\n",
      "        [28, 68, 71, 68, 73, 61, 78,  1],\n",
      "        [54, 71,  1, 54, 76, 54, 78,  1]])\n"
     ]
    }
   ],
   "source": [
    "n = int(0.8 * len(data))  # define 80% do conjunto de dados como treino\n",
    "train_data = data[:n]  # pega os primeiros 80% dos dados para treino\n",
    "val_data = data[n:]  # pega os 20% restantes para validação\n",
    "\n",
    "def get_batch(split):\n",
    "    data = train_data if split == 'train' else val_data  # usa os dados de treino ou validação\n",
    "    ix = torch.randint(len(data) - block_size, (batch_size,))  # sorteia índices aleatórios\n",
    "    print(ix)  # mostra os índices sorteados\n",
    "\n",
    "    x = torch.stack([data[i:i+block_size] for i in ix])  # cria um batch de entrada\n",
    "    y = torch.stack([data[i+1:i+block_size+1] for i in ix])  # cria o batch de saída \n",
    "\n",
    "    return x, y \n",
    "\n",
    "x, y = get_batch('train')  # obtém um batch de treino\n",
    "\n",
    "print('inputs:')\n",
    "print(x)\n",
    "\n",
    "print('targets:')\n",
    "print(y)"
   ]
  },
  {
   "cell_type": "markdown",
   "id": "fe8b637e",
   "metadata": {},
   "source": [
    "----\n"
   ]
  },
  {
   "cell_type": "code",
   "execution_count": null,
   "id": "37de7e2d",
   "metadata": {},
   "outputs": [],
   "source": [
    "class BigramLanguageModel(nn.Module):\n",
    "    def __init__(self, vocab_size):\n",
    "        super().__init__()\n",
    "        self.token_embedding_table = nn.Embedding(vocab_size, vocab_size) # cria tabela de embeddings que é um dicionário numérico onde cada palavra/token tem uma representação única \n",
    "\n",
    "    def foward(self, index, targets):\n",
    "        logits = self.token_embedding_table(index)\n",
    "        B, T, C = logits.shape # B (batch size/qtd frases), T (tamanho sequencia/ qtd palavras) e C (numero de dimensoes do embedding/ tamanho vetor de numeros)\n",
    "        logits = logits.view(B*T, C) # transfroma em vetor achatando os dados para facilitar comparação com target\n",
    "        targets = targets.view(B*T)\n",
    "        loss = f.cross_entropy(logits, targets) # compara logits (previsoes) com os targets e mostra o quao errado o modelo está\n",
    "\n",
    "        return logits"
   ]
  }
 ],
 "metadata": {
  "kernelspec": {
   "display_name": "myenv",
   "language": "python",
   "name": "python3"
  },
  "language_info": {
   "codemirror_mode": {
    "name": "ipython",
    "version": 3
   },
   "file_extension": ".py",
   "mimetype": "text/x-python",
   "name": "python",
   "nbconvert_exporter": "python",
   "pygments_lexer": "ipython3",
   "version": "3.10.16"
  }
 },
 "nbformat": 4,
 "nbformat_minor": 5
}
